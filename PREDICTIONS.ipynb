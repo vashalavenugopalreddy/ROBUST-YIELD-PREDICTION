{
 "cells": [
  {
   "cell_type": "code",
   "execution_count": 87,
   "id": "a333b057",
   "metadata": {},
   "outputs": [],
   "source": [
    "import pandas as pd\n",
    "import numpy as np"
   ]
  },
  {
   "cell_type": "code",
   "execution_count": 88,
   "id": "c5338e85",
   "metadata": {},
   "outputs": [],
   "source": [
    "w=pd.read_csv('predictions_ing_w.csv')\n",
    "x=pd.read_csv('predictions_ing_x.csv')\n",
    "y=pd.read_csv('predictions_ing_y.csv')\n",
    "z=pd.read_csv('predictions_ing_z.csv')"
   ]
  },
  {
   "cell_type": "code",
   "execution_count": 89,
   "id": "bbff84d7",
   "metadata": {},
   "outputs": [
    {
     "name": "stdout",
     "output_type": "stream",
     "text": [
      "                         date     farm_id  moving_avg_forcast\n",
      "0         2017-01-01 00:00:00  fid_110884          173.313914\n",
      "1         2017-01-01 00:00:00   fid_62121          173.313914\n",
      "2         2017-01-01 00:00:00   fid_23862          173.313914\n",
      "3         2017-01-01 00:00:00   fid_70526          173.313914\n",
      "4         2017-01-01 00:00:00   fid_88538          173.313914\n",
      "...                       ...         ...                 ...\n",
      "12599379  2017-12-31 23:00:00   fid_55194          173.313914\n",
      "12599380  2017-12-31 23:00:00   fid_52160          173.313914\n",
      "12599381  2017-12-31 23:00:00  fid_100954          173.313914\n",
      "12599382  2017-12-31 23:00:00   fid_39845          173.313914\n",
      "12599383  2017-12-31 23:00:00  fid_117010          173.313914\n",
      "\n",
      "[12599384 rows x 3 columns]\n",
      "                        date     farm_id  moving_avg_forcast\n",
      "0        2017-01-01 00:00:00   fid_33785          238.856913\n",
      "1        2017-01-01 00:00:00   fid_45809          238.856913\n",
      "2        2017-01-01 00:00:00   fid_60360          238.856913\n",
      "3        2017-01-01 00:00:00   fid_99921          238.856913\n",
      "4        2017-01-01 00:00:00   fid_44226          238.856913\n",
      "...                      ...         ...                 ...\n",
      "4414505  2017-12-31 23:00:00  fid_123014          238.856913\n",
      "4414506  2017-12-31 23:00:00   fid_73057          238.856913\n",
      "4414507  2017-12-31 23:00:00   fid_84046          238.856913\n",
      "4414508  2017-12-31 23:00:00   fid_93191          238.856913\n",
      "4414509  2017-12-31 23:00:00  fid_117010          238.856913\n",
      "\n",
      "[4414510 rows x 3 columns]\n",
      "                        date     farm_id  moving_avg_forcast\n",
      "0        2017-01-01 00:00:00   fid_26064         1760.954838\n",
      "1        2017-01-01 00:00:00   fid_55290         1760.954838\n",
      "2        2017-01-01 00:00:00   fid_21908         1760.954838\n",
      "3        2017-01-01 00:00:00   fid_71811         1760.954838\n",
      "4        2017-01-01 00:00:00  fid_109954         1760.954838\n",
      "...                      ...         ...                 ...\n",
      "2849350  2017-12-31 23:00:00  fid_122133         1760.954838\n",
      "2849351  2017-12-31 23:00:00   fid_56367         1760.954838\n",
      "2849352  2017-12-31 23:00:00   fid_34005         1760.954838\n",
      "2849353  2017-12-31 23:00:00  fid_113848         1760.954838\n",
      "2849354  2017-12-31 23:00:00  fid_118135         1760.954838\n",
      "\n",
      "[2849355 rows x 3 columns]\n",
      "                        date     farm_id  moving_avg_forcast\n",
      "0        2017-01-01 00:00:00   fid_87942          522.337149\n",
      "1        2017-01-01 00:00:00  fid_117986          522.337149\n",
      "2        2017-01-01 00:00:00   fid_94856          522.337149\n",
      "3        2017-01-01 00:00:00   fid_18061          522.337149\n",
      "4        2017-01-01 00:00:00   fid_90391          522.337149\n",
      "...                      ...         ...                 ...\n",
      "1291543  2017-12-31 23:00:00   fid_86326          522.337149\n",
      "1291544  2017-12-31 23:00:00   fid_62549          522.337149\n",
      "1291545  2017-12-31 23:00:00   fid_90391          522.337149\n",
      "1291546  2017-12-31 23:00:00   fid_87942          522.337149\n",
      "1291547  2017-12-31 23:00:00  fid_117010          522.337149\n",
      "\n",
      "[1291548 rows x 3 columns]\n"
     ]
    }
   ],
   "source": [
    "print(w)\n",
    "print(x)\n",
    "print(y)\n",
    "print(z)"
   ]
  },
  {
   "cell_type": "code",
   "execution_count": 92,
   "id": "f2e6ba77",
   "metadata": {},
   "outputs": [],
   "source": [
    "pred = pd.concat([w, x, y, z], axis=0, ignore_index=True)"
   ]
  },
  {
   "cell_type": "code",
   "execution_count": 93,
   "id": "cdedfe89",
   "metadata": {},
   "outputs": [],
   "source": [
    "pred['farm_id'] = sub['id']"
   ]
  },
  {
   "cell_type": "code",
   "execution_count": 94,
   "id": "e31a3df8",
   "metadata": {},
   "outputs": [],
   "source": [
    "sub['yield'] = pred['moving_avg_forcast']"
   ]
  },
  {
   "cell_type": "code",
   "execution_count": 95,
   "id": "116a06da",
   "metadata": {},
   "outputs": [
    {
     "data": {
      "text/html": [
       "<div>\n",
       "<style scoped>\n",
       "    .dataframe tbody tr th:only-of-type {\n",
       "        vertical-align: middle;\n",
       "    }\n",
       "\n",
       "    .dataframe tbody tr th {\n",
       "        vertical-align: top;\n",
       "    }\n",
       "\n",
       "    .dataframe thead th {\n",
       "        text-align: right;\n",
       "    }\n",
       "</style>\n",
       "<table border=\"1\" class=\"dataframe\">\n",
       "  <thead>\n",
       "    <tr style=\"text-align: right;\">\n",
       "      <th></th>\n",
       "      <th>id</th>\n",
       "      <th>yield</th>\n",
       "    </tr>\n",
       "  </thead>\n",
       "  <tbody>\n",
       "    <tr>\n",
       "      <th>0</th>\n",
       "      <td>0.0</td>\n",
       "      <td>173.313914</td>\n",
       "    </tr>\n",
       "    <tr>\n",
       "      <th>1</th>\n",
       "      <td>1.0</td>\n",
       "      <td>173.313914</td>\n",
       "    </tr>\n",
       "    <tr>\n",
       "      <th>2</th>\n",
       "      <td>2.0</td>\n",
       "      <td>173.313914</td>\n",
       "    </tr>\n",
       "    <tr>\n",
       "      <th>3</th>\n",
       "      <td>3.0</td>\n",
       "      <td>173.313914</td>\n",
       "    </tr>\n",
       "    <tr>\n",
       "      <th>4</th>\n",
       "      <td>4.0</td>\n",
       "      <td>173.313914</td>\n",
       "    </tr>\n",
       "    <tr>\n",
       "      <th>...</th>\n",
       "      <td>...</td>\n",
       "      <td>...</td>\n",
       "    </tr>\n",
       "    <tr>\n",
       "      <th>20848795</th>\n",
       "      <td>41696845.0</td>\n",
       "      <td>522.337149</td>\n",
       "    </tr>\n",
       "    <tr>\n",
       "      <th>20848796</th>\n",
       "      <td>41696846.0</td>\n",
       "      <td>522.337149</td>\n",
       "    </tr>\n",
       "    <tr>\n",
       "      <th>20848797</th>\n",
       "      <td>41696847.0</td>\n",
       "      <td>522.337149</td>\n",
       "    </tr>\n",
       "    <tr>\n",
       "      <th>20848798</th>\n",
       "      <td>41696848.0</td>\n",
       "      <td>522.337149</td>\n",
       "    </tr>\n",
       "    <tr>\n",
       "      <th>20848799</th>\n",
       "      <td>41696849.0</td>\n",
       "      <td>522.337149</td>\n",
       "    </tr>\n",
       "  </tbody>\n",
       "</table>\n",
       "<p>20848800 rows × 2 columns</p>\n",
       "</div>"
      ],
      "text/plain": [
       "                  id       yield\n",
       "0                0.0  173.313914\n",
       "1                1.0  173.313914\n",
       "2                2.0  173.313914\n",
       "3                3.0  173.313914\n",
       "4                4.0  173.313914\n",
       "...              ...         ...\n",
       "20848795  41696845.0  522.337149\n",
       "20848796  41696846.0  522.337149\n",
       "20848797  41696847.0  522.337149\n",
       "20848798  41696848.0  522.337149\n",
       "20848799  41696849.0  522.337149\n",
       "\n",
       "[20848800 rows x 2 columns]"
      ]
     },
     "execution_count": 95,
     "metadata": {},
     "output_type": "execute_result"
    }
   ],
   "source": [
    "sub"
   ]
  },
  {
   "cell_type": "code",
   "execution_count": 96,
   "id": "60f4a776",
   "metadata": {},
   "outputs": [],
   "source": [
    "sub.to_csv(\"predictions.csv\",index=False)"
   ]
  }
 ],
 "metadata": {
  "kernelspec": {
   "display_name": "Python 3 (ipykernel)",
   "language": "python",
   "name": "python3"
  },
  "language_info": {
   "codemirror_mode": {
    "name": "ipython",
    "version": 3
   },
   "file_extension": ".py",
   "mimetype": "text/x-python",
   "name": "python",
   "nbconvert_exporter": "python",
   "pygments_lexer": "ipython3",
   "version": "3.9.12"
  }
 },
 "nbformat": 4,
 "nbformat_minor": 5
}
